{
 "cells": [
  {
   "cell_type": "code",
   "execution_count": 1,
   "metadata": {
    "collapsed": false
   },
   "outputs": [],
   "source": [
    "# create_apartment.py\n",
    "\n",
    "class Apartment:\n",
    "    '''\n",
    "    Class that represents an apartment for sale\n",
    "    price is in USD\n",
    "    '''\n",
    "    def __init__(self, id, sqm, price):\n",
    "        self.id = id\n",
    "        self.sqm = sqm\n",
    "        self.price = price\n",
    "        self.sold = False\n",
    "\n",
    "    def sell(self):\n",
    "        if not self.sold:\n",
    "            self.sold = True\n",
    "        else:\n",
    "            print(\"Apartment {} already sold\".format(self.id))\n",
    "\n",
    " "
   ]
  },
  {
   "cell_type": "code",
   "execution_count": 2,
   "metadata": {
    "collapsed": false
   },
   "outputs": [
    {
     "name": "stdout",
     "output_type": "stream",
     "text": [
      "Sold? False\n",
      "Sold? True\n",
      "Apartment 1 already sold\n"
     ]
    }
   ],
   "source": [
    "# instantiate_apartment.py\n",
    "\n",
    "from create_apartment import Apartment\n",
    "\n",
    "d1 = Apartment(id=1,\n",
    "               sqm=100,\n",
    "               price=5000)\n",
    "\n",
    "print(\"Sold?\", d1.sold)\n",
    "d1.sell()\n",
    "print(\"Sold?\", d1.sold)\n",
    "d1.sell()\n"
   ]
  },
  {
   "cell_type": "code",
   "execution_count": 3,
   "metadata": {
    "collapsed": false
   },
   "outputs": [
    {
     "name": "stdout",
     "output_type": "stream",
     "text": [
      "Help on class Apartment in module create_apartment:\n",
      "\n",
      "class Apartment(builtins.object)\n",
      " |  Class that represents an apartment for sale\n",
      " |  price is in USD\n",
      " |  \n",
      " |  Methods defined here:\n",
      " |  \n",
      " |  __init__(self, id, sqm, price)\n",
      " |  \n",
      " |  sell(self)\n",
      " |  \n",
      " |  ----------------------------------------------------------------------\n",
      " |  Data descriptors defined here:\n",
      " |  \n",
      " |  __dict__\n",
      " |      dictionary for instance variables (if defined)\n",
      " |  \n",
      " |  __weakref__\n",
      " |      list of weak references to the object (if defined)\n",
      "\n"
     ]
    }
   ],
   "source": [
    "help(Apartment)"
   ]
  },
  {
   "cell_type": "code",
   "execution_count": 11,
   "metadata": {
    "collapsed": false
   },
   "outputs": [
    {
     "name": "stdout",
     "output_type": "stream",
     "text": [
      "Grocery List:\n",
      "\n",
      "name: bread - price: 5\n",
      "name: milk - price: 10\n",
      "name: rice - price: 12\n",
      "\n",
      "Grocery List:\n",
      "\n",
      "name: bread - price: 5\n",
      "name: milk - price: 10\n",
      "\n"
     ]
    }
   ],
   "source": [
    "# grocery_list.py\n",
    "\n",
    "class GroceryList(list):\n",
    "    \n",
    "    def discard(self, price):\n",
    "\n",
    "        for product in self:\n",
    "            if product.price > price:\n",
    "                self.remove(product)#remove method is implemented in the class \"list\"\n",
    "\n",
    "        return self\n",
    "\n",
    "    def __str__(self):\n",
    "        out = \"Grocery List:\\n\\n\"\n",
    "        for p in self:\n",
    "            out += \"name: \" + p.name + \" - price: \" + str(p.price) + \"\\n\"\n",
    "\n",
    "        return out\n",
    "    \n",
    "class Product:\n",
    "    \n",
    "    def __init__(self, name, price):\n",
    "        self.name = name\n",
    "        self.price = price\n",
    "\n",
    "\n",
    "grocery_list = GroceryList()    \n",
    "#extend method also belongs to class list\n",
    "grocery_list.extend([Product(\"bread\", 5), Product(\"milk\", 10), Product(\"rice\", 12)])\n",
    "print(grocery_list)\n",
    "grocery_list.discard(11)\n",
    "print(grocery_list)\n"
   ]
  },
  {
   "cell_type": "code",
   "execution_count": 25,
   "metadata": {
    "collapsed": false
   },
   "outputs": [
    {
     "name": "stdout",
     "output_type": "stream",
     "text": [
      "Research field: Meachine Learning\n",
      "Courses: Python Programming, Probabilistic Graphical Models, Bayesian Inference\n",
      "Name: John Perez\n",
      "\n"
     ]
    }
   ],
   "source": [
    "# multiple_inheritance.py\n",
    "\n",
    "\n",
    "class Researcher:\n",
    "    def __init__(self, field):\n",
    "        self.field = field\n",
    "        \n",
    "    def __str__(self):\n",
    "        return \"Research field: \" + self.field + \"\\n\"\n",
    "        \n",
    "\n",
    "class Teacher:\n",
    "    def __init__(self, courses_list):\n",
    "        self.courses_list = courses_list\n",
    "\n",
    "    def __str__(self):\n",
    "        out = \"Courses: \"\n",
    "        for c in self.courses_list:\n",
    "            out += c + \", \"\n",
    "        return out[:-2] + \"\\n\"\n",
    "        #the [:-2] selects all the elements from out but the last two\n",
    "\n",
    "class Professor(Teacher, Researcher):\n",
    "    def __init__(self, name, field, courses_list):\n",
    "        # This is not completetly right\n",
    "        # Soon we will see why\n",
    "        Researcher.__init__(self, field)\n",
    "        Teacher.__init__(self, courses_list)\n",
    "        self.name = name\n",
    "\n",
    "    def __str__(self):\n",
    "        out = Researcher.__str__(self)\n",
    "        out += Teacher.__str__(self)\n",
    "        out += \"Name: \" + self.name + \"\\n\"\n",
    "        return out\n",
    "\n",
    "        \n",
    "        \n",
    "p = Professor(\"John Perez\",\n",
    "              \"Meachine Learning\",\n",
    "              [\"Python Programming\", \"Probabilistic Graphical Models\"\n",
    "               , \"Bayesian Inference\"])\n",
    "\n",
    "print(p)\n"
   ]
  },
  {
   "cell_type": "code",
   "execution_count": 20,
   "metadata": {
    "collapsed": false
   },
   "outputs": [
    {
     "name": "stdout",
     "output_type": "stream",
     "text": [
      "[1, 2, 3, 4]\n"
     ]
    }
   ],
   "source": [
    "a=[1,2,3,4,5]\n",
    "print(a[:-1])"
   ]
  },
  {
   "cell_type": "code",
   "execution_count": null,
   "metadata": {
    "collapsed": true
   },
   "outputs": [],
   "source": []
  }
 ],
 "metadata": {
  "kernelspec": {
   "display_name": "Python 3",
   "language": "python",
   "name": "python3"
  },
  "language_info": {
   "codemirror_mode": {
    "name": "ipython",
    "version": 3
   },
   "file_extension": ".py",
   "mimetype": "text/x-python",
   "name": "python",
   "nbconvert_exporter": "python",
   "pygments_lexer": "ipython3",
   "version": "3.4.2"
  }
 },
 "nbformat": 4,
 "nbformat_minor": 0
}
