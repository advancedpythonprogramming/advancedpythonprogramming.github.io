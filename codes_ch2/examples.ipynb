{
 "cells": [
  {
   "cell_type": "code",
   "execution_count": 2,
   "metadata": {
    "collapsed": false
   },
   "outputs": [
    {
     "ename": "TypeError",
     "evalue": "'tuple' object does not support item assignment",
     "output_type": "error",
     "traceback": [
      "\u001b[1;31m---------------------------------------------------------------------------\u001b[0m",
      "\u001b[1;31mTypeError\u001b[0m                                 Traceback (most recent call last)",
      "\u001b[1;32m<ipython-input-2-dac1ab531a4a>\u001b[0m in \u001b[0;36m<module>\u001b[1;34m()\u001b[0m\n\u001b[0;32m     15\u001b[0m \u001b[1;33m\u001b[0m\u001b[0m\n\u001b[0;32m     16\u001b[0m \u001b[1;31m# We try to change the element in position 0\u001b[0m\u001b[1;33m\u001b[0m\u001b[1;33m\u001b[0m\u001b[0m\n\u001b[1;32m---> 17\u001b[1;33m \u001b[0ma\u001b[0m\u001b[1;33m[\u001b[0m\u001b[1;36m0\u001b[0m\u001b[1;33m]\u001b[0m \u001b[1;33m=\u001b[0m \u001b[1;34m'nuevo dato'\u001b[0m\u001b[1;33m\u001b[0m\u001b[0m\n\u001b[0m",
      "\u001b[1;31mTypeError\u001b[0m: 'tuple' object does not support item assignment"
     ]
    }
   ],
   "source": [
    "# %load 05_tuple_inmutable.py\n",
    "# In this example we show that once we create the tuple\n",
    "# we cannot change its contents\n",
    "\n",
    "class Image:\n",
    "\n",
    "    def __init__(self):\n",
    "        self.ext = ''\n",
    "        self.size = ''\n",
    "        self.data = ''\n",
    "\n",
    "\n",
    "img = Image()\n",
    "a = (img, 'this is' , 'a image file')\n",
    "\n",
    "# We try to change the element in position 0\n",
    "a[0] = 'nuevo dato'\n"
   ]
  },
  {
   "cell_type": "code",
   "execution_count": 4,
   "metadata": {
    "collapsed": false
   },
   "outputs": [
    {
     "name": "stdout",
     "output_type": "stream",
     "text": [
      "200.0\n"
     ]
    }
   ],
   "source": [
    "# %load 09_named_tuple_function.py\n",
    "# The namedtuple belongs to the collections module\n",
    "from collections import namedtuple\n",
    "\n",
    "\n",
    "# We create a example function that return the result as a namedtuple.\n",
    "\n",
    "def compute_geometry(a, b):\n",
    "    Features = namedtuple('Geometrical', 'area perimeter mpa mpb')\n",
    "    area = a*b\n",
    "    perimeter = (2*a) + (2*b)\n",
    "    mpa = a/2\n",
    "    mpb = b/2\n",
    "    return Features(area, perimeter, mpa, mpb)\n",
    "\n",
    "\n",
    "data = compute_geometry(20.0, 10.0)\n",
    "print(data.area)\n"
   ]
  },
  {
   "cell_type": "code",
   "execution_count": 6,
   "metadata": {
    "collapsed": false
   },
   "outputs": [
    {
     "name": "stdout",
     "output_type": "stream",
     "text": [
      "['Addicted to pain', 'Ghost love score', 'As I am']\n",
      "['Addicted to pain', 'Sober', 'Ghost love score', 'As I am']\n"
     ]
    }
   ],
   "source": [
    "# We create a list with 3 elements\n",
    "songs = ['Addicted to pain', 'Ghost love score', 'As I am']\n",
    "print(songs)\n",
    "\n",
    "# Then, we insert a new songs at the position 1\n",
    "songs.insert(1, 'Sober')\n",
    "print(songs)\n",
    "\n"
   ]
  }
 ],
 "metadata": {
  "kernelspec": {
   "display_name": "Python 3",
   "language": "python",
   "name": "python3"
  },
  "language_info": {
   "codemirror_mode": {
    "name": "ipython",
    "version": 3
   },
   "file_extension": ".py",
   "mimetype": "text/x-python",
   "name": "python",
   "nbconvert_exporter": "python",
   "pygments_lexer": "ipython3",
   "version": "3.4.3"
  }
 },
 "nbformat": 4,
 "nbformat_minor": 0
}
